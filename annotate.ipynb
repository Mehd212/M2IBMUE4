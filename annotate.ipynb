{
 "cells": [
  {
   "cell_type": "code",
   "execution_count": 2,
   "id": "512eb336-1c4d-4a08-82d0-00a3a0bf6bba",
   "metadata": {},
   "outputs": [
    {
     "ename": "FileNotFoundError",
     "evalue": "[Errno 2] No such file or directory: 'dj_2022_3_mois_paracetamol_dj_2022_3_mois_paracetamol.srt'",
     "output_type": "error",
     "traceback": [
      "\u001b[0;31m---------------------------------------------------------------------------\u001b[0m",
      "\u001b[0;31mFileNotFoundError\u001b[0m                         Traceback (most recent call last)",
      "Cell \u001b[0;32mIn[2], line 48\u001b[0m\n\u001b[1;32m     45\u001b[0m output_file \u001b[38;5;241m=\u001b[39m \u001b[38;5;124m\"\u001b[39m\u001b[38;5;124mannotations_avec_locuteurs2.txt\u001b[39m\u001b[38;5;124m\"\u001b[39m\n\u001b[1;32m     47\u001b[0m \u001b[38;5;66;03m# Charger les segments depuis le fichier SRT\u001b[39;00m\n\u001b[0;32m---> 48\u001b[0m segments \u001b[38;5;241m=\u001b[39m \u001b[43mload_srt\u001b[49m\u001b[43m(\u001b[49m\u001b[43msrt_file\u001b[49m\u001b[43m)\u001b[49m\n\u001b[1;32m     50\u001b[0m \u001b[38;5;66;03m# Annoter les segments avec les locuteurs\u001b[39;00m\n\u001b[1;32m     51\u001b[0m annotated_segments \u001b[38;5;241m=\u001b[39m annotate_speaker(segments)\n",
      "Cell \u001b[0;32mIn[2], line 8\u001b[0m, in \u001b[0;36mload_srt\u001b[0;34m(file_path)\u001b[0m\n\u001b[1;32m      6\u001b[0m \u001b[38;5;250m\u001b[39m\u001b[38;5;124;03m\"\"\"Charge un fichier SRT et retourne une liste de segments.\"\"\"\u001b[39;00m\n\u001b[1;32m      7\u001b[0m segments \u001b[38;5;241m=\u001b[39m []\n\u001b[0;32m----> 8\u001b[0m \u001b[38;5;28;01mwith\u001b[39;00m \u001b[38;5;28;43mopen\u001b[39;49m\u001b[43m(\u001b[49m\u001b[43mfile_path\u001b[49m\u001b[43m,\u001b[49m\u001b[43m \u001b[49m\u001b[38;5;124;43m'\u001b[39;49m\u001b[38;5;124;43mr\u001b[39;49m\u001b[38;5;124;43m'\u001b[39;49m\u001b[43m,\u001b[49m\u001b[43m \u001b[49m\u001b[43mencoding\u001b[49m\u001b[38;5;241;43m=\u001b[39;49m\u001b[38;5;124;43m'\u001b[39;49m\u001b[38;5;124;43mutf-8\u001b[39;49m\u001b[38;5;124;43m'\u001b[39;49m\u001b[43m)\u001b[49m \u001b[38;5;28;01mas\u001b[39;00m f:\n\u001b[1;32m      9\u001b[0m     content \u001b[38;5;241m=\u001b[39m f\u001b[38;5;241m.\u001b[39mread()\n\u001b[1;32m     10\u001b[0m     blocks \u001b[38;5;241m=\u001b[39m content\u001b[38;5;241m.\u001b[39mstrip()\u001b[38;5;241m.\u001b[39msplit(\u001b[38;5;124m'\u001b[39m\u001b[38;5;130;01m\\n\u001b[39;00m\u001b[38;5;130;01m\\n\u001b[39;00m\u001b[38;5;124m'\u001b[39m)\n",
      "File \u001b[0;32m~/anaconda3/envs/myenv/lib/python3.10/site-packages/IPython/core/interactiveshell.py:324\u001b[0m, in \u001b[0;36m_modified_open\u001b[0;34m(file, *args, **kwargs)\u001b[0m\n\u001b[1;32m    317\u001b[0m \u001b[38;5;28;01mif\u001b[39;00m file \u001b[38;5;129;01min\u001b[39;00m {\u001b[38;5;241m0\u001b[39m, \u001b[38;5;241m1\u001b[39m, \u001b[38;5;241m2\u001b[39m}:\n\u001b[1;32m    318\u001b[0m     \u001b[38;5;28;01mraise\u001b[39;00m \u001b[38;5;167;01mValueError\u001b[39;00m(\n\u001b[1;32m    319\u001b[0m         \u001b[38;5;124mf\u001b[39m\u001b[38;5;124m\"\u001b[39m\u001b[38;5;124mIPython won\u001b[39m\u001b[38;5;124m'\u001b[39m\u001b[38;5;124mt let you open fd=\u001b[39m\u001b[38;5;132;01m{\u001b[39;00mfile\u001b[38;5;132;01m}\u001b[39;00m\u001b[38;5;124m by default \u001b[39m\u001b[38;5;124m\"\u001b[39m\n\u001b[1;32m    320\u001b[0m         \u001b[38;5;124m\"\u001b[39m\u001b[38;5;124mas it is likely to crash IPython. If you know what you are doing, \u001b[39m\u001b[38;5;124m\"\u001b[39m\n\u001b[1;32m    321\u001b[0m         \u001b[38;5;124m\"\u001b[39m\u001b[38;5;124myou can use builtins\u001b[39m\u001b[38;5;124m'\u001b[39m\u001b[38;5;124m open.\u001b[39m\u001b[38;5;124m\"\u001b[39m\n\u001b[1;32m    322\u001b[0m     )\n\u001b[0;32m--> 324\u001b[0m \u001b[38;5;28;01mreturn\u001b[39;00m \u001b[43mio_open\u001b[49m\u001b[43m(\u001b[49m\u001b[43mfile\u001b[49m\u001b[43m,\u001b[49m\u001b[43m \u001b[49m\u001b[38;5;241;43m*\u001b[39;49m\u001b[43margs\u001b[49m\u001b[43m,\u001b[49m\u001b[43m \u001b[49m\u001b[38;5;241;43m*\u001b[39;49m\u001b[38;5;241;43m*\u001b[39;49m\u001b[43mkwargs\u001b[49m\u001b[43m)\u001b[49m\n",
      "\u001b[0;31mFileNotFoundError\u001b[0m: [Errno 2] No such file or directory: 'dj_2022_3_mois_paracetamol_dj_2022_3_mois_paracetamol.srt'"
     ]
    }
   ],
   "source": [
    "import re\n",
    "from pathlib import Path\n",
    "from typing import List, Dict, Tuple\n",
    "\n",
    "def load_srt(file_path: str) -> List[Dict[str, str]]:\n",
    "    \"\"\"Charge un fichier SRT et retourne une liste de segments.\"\"\"\n",
    "    segments = []\n",
    "    with open(file_path, 'r', encoding='utf-8') as f:\n",
    "        content = f.read()\n",
    "        blocks = content.strip().split('\\n\\n')\n",
    "        for block in blocks:\n",
    "            lines = block.split('\\n')\n",
    "            if len(lines) >= 3:\n",
    "                time_range = lines[1]\n",
    "                text = \" \".join(lines[2:])\n",
    "                segments.append({\"time\": time_range, \"text\": text})\n",
    "    return segments\n",
    "\n",
    "def annotate_speaker(segments: List[Dict[str, str]]) -> List[Dict[str, str]]:\n",
    "    \"\"\"Annoter chaque segment avec un locuteur basé sur des mots-clés.\"\"\"\n",
    "    speaker_keywords = {\n",
    "        \"MEDECIN\": [\"docteur\", \"examen\", \"prescrire\", \"traitement\"],\n",
    "        \"PATIENT\": [\"je\", \"mon\", \"ma\", \"moi\", \"nous\", \"papa\", \"maman\"],\n",
    "        \"PROCHE\": [\"mon père\", \"ma mère\", \"ma femme\", \"mon mari\", \"mon enfant\"]\n",
    "    }\n",
    "    annotated_segments = []\n",
    "    for segment in segments:\n",
    "        text = segment[\"text\"].lower()\n",
    "        speaker = \"INCONNU\"  # Default speaker if no match is found\n",
    "        for role, keywords in speaker_keywords.items():\n",
    "            if any(keyword in text for keyword in keywords):\n",
    "                speaker = role\n",
    "                break\n",
    "        annotated_segments.append({\"time\": segment[\"time\"], \"text\": segment[\"text\"], \"speaker\": speaker})\n",
    "    return annotated_segments\n",
    "\n",
    "def save_annotated_segments(annotated_segments: List[Dict[str, str]], output_path: str):\n",
    "    \"\"\"Sauvegarde les segments annotés dans un fichier au format texte.\"\"\"\n",
    "    with open(output_path, 'w', encoding='utf-8') as f:\n",
    "        for segment in annotated_segments:\n",
    "            f.write(f\"[{segment['time']}] {segment['speaker']}: {segment['text']}\\n\\n\")\n",
    "\n",
    "# Exemple d'utilisation\n",
    "srt_file = \"dj_2022_3_mois_paracetamol_dj_2022_3_mois_paracetamol.srt\"  # Remplacez par le chemin de votre fichier SRT\n",
    "output_file = \"annotations_avec_locuteurs2.txt\"\n",
    "\n",
    "# Charger les segments depuis le fichier SRT\n",
    "segments = load_srt(srt_file)\n",
    "\n",
    "# Annoter les segments avec les locuteurs\n",
    "annotated_segments = annotate_speaker(segments)\n",
    "\n",
    "# Sauvegarder les segments annotés\n",
    "save_annotated_segments(annotated_segments, output_file)\n",
    "\n",
    "print(f\"Annotations terminées ! Résultat sauvegardé dans {output_file}\")\n"
   ]
  },
  {
   "cell_type": "code",
   "execution_count": null,
   "id": "1d2d6bd0-b888-4a4a-81f4-27ea6bd3e20e",
   "metadata": {},
   "outputs": [],
   "source": []
  }
 ],
 "metadata": {
  "kernelspec": {
   "display_name": "myenv",
   "language": "python",
   "name": "python3"
  },
  "language_info": {
   "codemirror_mode": {
    "name": "ipython",
    "version": 3
   },
   "file_extension": ".py",
   "mimetype": "text/x-python",
   "name": "python",
   "nbconvert_exporter": "python",
   "pygments_lexer": "ipython3",
   "version": "3.10.15"
  }
 },
 "nbformat": 4,
 "nbformat_minor": 5
}
