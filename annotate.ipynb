{
 "cells": [
  {
   "cell_type": "code",
   "execution_count": 2,
   "id": "512eb336-1c4d-4a08-82d0-00a3a0bf6bba",
   "metadata": {},
   "outputs": [
    {
     "name": "stdout",
     "output_type": "stream",
     "text": [
      "Annotations terminées ! Résultat sauvegardé dans annotations_avec_locuteurs2.txt\n"
     ]
    }
   ],
   "source": [
    "import re\n",
    "from pathlib import Path\n",
    "from typing import List, Dict, Tuple\n",
    "\n",
    "def load_srt(file_path: str) -> List[Dict[str, str]]:\n",
    "    \"\"\"Charge un fichier SRT et retourne une liste de segments.\"\"\"\n",
    "    segments = []\n",
    "    with open(file_path, 'r', encoding='utf-8') as f:\n",
    "        content = f.read()\n",
    "        blocks = content.strip().split('\\n\\n')\n",
    "        for block in blocks:\n",
    "            lines = block.split('\\n')\n",
    "            if len(lines) >= 3:\n",
    "                time_range = lines[1]\n",
    "                text = \" \".join(lines[2:])\n",
    "                segments.append({\"time\": time_range, \"text\": text})\n",
    "    return segments\n",
    "\n",
    "def annotate_speaker(segments: List[Dict[str, str]]) -> List[Dict[str, str]]:\n",
    "    \"\"\"Annoter chaque segment avec un locuteur basé sur des mots-clés.\"\"\"\n",
    "    speaker_keywords = {\n",
    "        \"MEDECIN\": [\"docteur\", \"examen\", \"prescrire\", \"traitement\"],\n",
    "        \"PATIENT\": [\"je\", \"mon\", \"ma\", \"moi\", \"nous\", \"papa\", \"maman\"],\n",
    "        \"PROCHE\": [\"mon père\", \"ma mère\", \"ma femme\", \"mon mari\", \"mon enfant\"]\n",
    "    }\n",
    "    annotated_segments = []\n",
    "    for segment in segments:\n",
    "        text = segment[\"text\"].lower()\n",
    "        speaker = \"INCONNU\"  # Default speaker if no match is found\n",
    "        for role, keywords in speaker_keywords.items():\n",
    "            if any(keyword in text for keyword in keywords):\n",
    "                speaker = role\n",
    "                break\n",
    "        annotated_segments.append({\"time\": segment[\"time\"], \"text\": segment[\"text\"], \"speaker\": speaker})\n",
    "    return annotated_segments\n",
    "\n",
    "def save_annotated_segments(annotated_segments: List[Dict[str, str]], output_path: str):\n",
    "    \"\"\"Sauvegarde les segments annotés dans un fichier au format texte.\"\"\"\n",
    "    with open(output_path, 'w', encoding='utf-8') as f:\n",
    "        for segment in annotated_segments:\n",
    "            f.write(f\"[{segment['time']}] {segment['speaker']}: {segment['text']}\\n\\n\")\n",
    "\n",
    "# Exemple d'utilisation\n",
    "srt_file = \"dj_2022_3_mois_paracetamol_dj_2022_3_mois_paracetamol.srt\"  # Remplacez par le chemin de votre fichier SRT\n",
    "output_file = \"annotations_avec_locuteurs2.txt\"\n",
    "\n",
    "# Charger les segments depuis le fichier SRT\n",
    "segments = load_srt(srt_file)\n",
    "\n",
    "# Annoter les segments avec les locuteurs\n",
    "annotated_segments = annotate_speaker(segments)\n",
    "\n",
    "# Sauvegarder les segments annotés\n",
    "save_annotated_segments(annotated_segments, output_file)\n",
    "\n",
    "print(f\"Annotations terminées ! Résultat sauvegardé dans {output_file}\")\n"
   ]
  },
  {
   "cell_type": "code",
   "execution_count": null,
   "id": "1d2d6bd0-b888-4a4a-81f4-27ea6bd3e20e",
   "metadata": {},
   "outputs": [],
   "source": []
  }
 ],
 "metadata": {
  "kernelspec": {
   "display_name": "Python 3 (ipykernel)",
   "language": "python",
   "name": "python3"
  },
  "language_info": {
   "codemirror_mode": {
    "name": "ipython",
    "version": 3
   },
   "file_extension": ".py",
   "mimetype": "text/x-python",
   "name": "python",
   "nbconvert_exporter": "python",
   "pygments_lexer": "ipython3",
   "version": "3.8.20"
  }
 },
 "nbformat": 4,
 "nbformat_minor": 5
}
